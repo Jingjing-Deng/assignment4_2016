{
 "cells": [
  {
   "cell_type": "code",
   "execution_count": 1,
   "metadata": {
    "collapsed": false
   },
   "outputs": [],
   "source": [
    "from pandas import *\n",
    "import pandas as pd\n",
    "\n",
    "#define a function to extract patient_name from the excel\n",
    "def patient_name(row):\n",
    "    sample=row['Sample ID'].strip().split()\n",
    "    for value in row['Sample ID'].strip().split():\n",
    "        if value in ['v1','v2','v3','V1','V2','V3','10','100','1000','10000','100000','1000000','10000000']:\n",
    "            sample.remove(value)\n",
    "    return '_'.join(sample)\n",
    "\n",
    "#define a function to get hosptial_age_sex information\n",
    "#def h_a_s(row):\n",
    "\n",
    "#define a function to return a name set for each sheet\n",
    "def patient_name_set(df):\n",
    "    set_name=set()\n",
    "    for i, row in df.iterrows():\n",
    "        set_name.add(row['patient_name'])\n",
    "    return set_name\n",
    "#list of target moleculars for plots\n",
    "colls=['PSMalpha2', 'PSMalpha3',\n",
    "       'psmalpah4', 'BSA', 'Betatoxin', 'hIgA', 'LDL', 'SEB',\n",
    "       'S.Pyogenese arcA', 'LukE', 'Pn PS12', 'LukD', 'Pn PS23', 'HLA-1',\n",
    "       'SpA domD5-WT', 'Glom.extract', 'SpA domD5FcNull', 'SEN', 'hIgG', 'SEU',\n",
    "       'HLA', 'SEI', 'LukAB(Lab)', 'SEM', 'LukAB(cc30)', 'surface protein ext',\n",
    "       'SEB.1', 'cytoplasmic ext', 'Hemolysin gamma A', 'Pn CWPS',\n",
    "       'Hemolysin gamma B', 'ABA', 'Hemolysin gamma C', 'PC-12', 'LukS-PV',\n",
    "       'SEO', 'SP', 'SEG', 'PLY', 'HSA', 'Exoprotein ext', 'Rabbit IgG',\n",
    "       'LukF-PV', 'PSM 4variant', 'PC4', 'PNAG', 'PC16', 'HLA -2',\n",
    "       'Tetanus Toxoid']"
   ]
  },
  {
   "cell_type": "code",
   "execution_count": 2,
   "metadata": {
    "collapsed": false
   },
   "outputs": [],
   "source": [
    "dfs=[]\n",
    "for i in range(11):\n",
    "    #read all the sheets to a list of dataframes\n",
    "    dfs.append(pandas.read_excel(open('06222016 Staph Array Data.xlsx','rb'), skiprows=1, sheetname=i))\n",
    "    #extract dilution value from the excel  \n",
    "    dfs[i]['dilution']=dfs[i].apply(lambda row: row['Sample ID'].strip().split()[-1] if row['Sample ID'].strip().split()[-1] in ['10','100','1000','10000','100000','1000000','10000000'] else 'NONE', axis=1)\n",
    "    #extract visit times from the excel\n",
    "    dfs[i]['visit_time']=dfs[i].apply(lambda row: row['Sample ID'].strip().split()[-2] if len(row['Sample ID'].strip().split())>1 and row['Sample ID'].strip().split()[-2] in ['v1','v2','v3','V1','V2','V3'] else 'NONE', axis=1)\n",
    "    #extract dilution value from the excel\n",
    "    dfs[i]['patient_name']=dfs[i].apply(patient_name,axis=1)\n",
    "    #plotting for each molecular\n",
    "    #patient_list=patient_name_set(dfs[i])\n",
    "\n"
   ]
  },
  {
   "cell_type": "code",
   "execution_count": 3,
   "metadata": {
    "collapsed": false
   },
   "outputs": [
    {
     "ename": "SyntaxError",
     "evalue": "unexpected EOF while parsing (<ipython-input-3-1ffb2a1edd73>, line 9)",
     "output_type": "error",
     "traceback": [
      "\u001b[0;36m  File \u001b[0;32m\"<ipython-input-3-1ffb2a1edd73>\"\u001b[0;36m, line \u001b[0;32m9\u001b[0m\n\u001b[0;31m    for molecule in colls:\u001b[0m\n\u001b[0m                          ^\u001b[0m\n\u001b[0;31mSyntaxError\u001b[0m\u001b[0;31m:\u001b[0m unexpected EOF while parsing\n"
     ]
    }
   ],
   "source": [
    "\n",
    "\n",
    "#name_set=patient_name_set(dfs[i])\n",
    "print(patient_name_set(dfs[0]))\n",
    "patient_list=patient_name_set(dfs[0])\n",
    "for patient in patient_list:\n",
    "    dfs[0].filtered\n",
    "    \n",
    "    for molecule in colls:"
   ]
  },
  {
   "cell_type": "code",
   "execution_count": null,
   "metadata": {
    "collapsed": true
   },
   "outputs": [],
   "source": []
  }
 ],
 "metadata": {
  "kernelspec": {
   "display_name": "Python 3",
   "language": "python",
   "name": "python3"
  },
  "language_info": {
   "codemirror_mode": {
    "name": "ipython",
    "version": 3
   },
   "file_extension": ".py",
   "mimetype": "text/x-python",
   "name": "python",
   "nbconvert_exporter": "python",
   "pygments_lexer": "ipython3",
   "version": "3.5.2"
  }
 },
 "nbformat": 4,
 "nbformat_minor": 0
}
